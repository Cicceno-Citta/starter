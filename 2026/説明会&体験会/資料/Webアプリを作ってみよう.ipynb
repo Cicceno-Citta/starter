{
  "cells": [
    {
      "cell_type": "code",
      "execution_count": null,
      "metadata": {
        "id": "yjjeG4bqNDAC"
      },
      "outputs": [],
      "source": [
        "!mkdir templates"
      ]
    },
    {
      "cell_type": "code",
      "execution_count": null,
      "metadata": {
        "id": "uc-OsdmJRCjP"
      },
      "outputs": [],
      "source": [
        "from flask import Flask, render_template, request\n",
        "\n",
        "app = Flask(__name__)\n",
        "\n",
        "\n",
        "\n",
        "# ここから\n",
        "\n",
        "@app.get(\"/\")\n",
        "def index():\n",
        "    return render_template(\"index.html\")\n",
        "\n",
        "\n",
        "@app.get(\"/hello/\")\n",
        "def hello():\n",
        "    return render_template(\"hello.html\")\n",
        "\n",
        "\n",
        "@app.get(\"/sum/\")\n",
        "def sum_get():\n",
        "    return render_template(\"sum.html\", x=0, y=0, answer=0)\n",
        "\n",
        "\n",
        "@app.post(\"/sum/\")\n",
        "def sum_post():\n",
        "    x = int(request.form[\"x\"])\n",
        "    y = int(request.form[\"y\"])\n",
        "    answer = x + y\n",
        "    return render_template(\"sum.html\", x=x, y=y, answer=answer)\n",
        "\n",
        "\n",
        "# 引き算のページをつくってみよう(難しめ)\n",
        "# 上のsumを参考に\n",
        "# HTMLファイル名は\"diff.html\"\n",
        "\n",
        "\n",
        "\n",
        "# ここまで\n",
        "\n",
        "\n",
        "\n",
        "from google.colab.output import eval_js\n",
        "print(eval_js(\"google.colab.kernel.proxyPort(5000)\"))\n",
        "app.run(port=5000)"
      ]
    }
  ],
  "metadata": {
    "colab": {
      "provenance": []
    },
    "kernelspec": {
      "display_name": "Python 3",
      "name": "python3"
    },
    "language_info": {
      "name": "python"
    }
  },
  "nbformat": 4,
  "nbformat_minor": 0
}
